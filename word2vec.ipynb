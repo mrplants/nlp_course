{
 "cells": [
  {
   "cell_type": "markdown",
   "metadata": {},
   "source": [
    "# Word Vector Exploration\n",
    "In this notebook, we will explore word vectors from Spacy's `en_core_web_sm` model.  We will first\n",
    "load these word vectors into a vector database and then use the database to find to top-k most\n",
    "similar words.\n",
    "\n",
    "After that, we will explore analogies using the word vectors, an interesting application that is often\n",
    "used to evaluate the quality of word vectors and showcase biases in the data.\n",
    "\n",
    "Finally, we will plot the word vectors using t-SNE to visualize the word vectors in 2D space."
   ]
  },
  {
   "cell_type": "code",
   "execution_count": 1,
   "metadata": {},
   "outputs": [],
   "source": [
    "import faiss\n",
    "import numpy as np\n",
    "import spacy\n",
    "from tqdm import tqdm\n",
    "import plotly.graph_objects as go\n",
    "from sklearn.manifold import TSNE\n",
    "\n",
    "# Load the spaCy model\n",
    "# python -m spacy download en_core_web_lg\n",
    "nlp = spacy.load('en_core_web_lg')"
   ]
  },
  {
   "cell_type": "markdown",
   "metadata": {},
   "source": [
    "## Explore Spacy's Word Vectors"
   ]
  },
  {
   "cell_type": "code",
   "execution_count": 2,
   "metadata": {},
   "outputs": [
    {
     "name": "stdout",
     "output_type": "stream",
     "text": [
      "Similarity between banana and fruit: 0.6650428369389225\n",
      "Similarity between banana and table: 0.20632129046587597\n"
     ]
    }
   ],
   "source": [
    "banana = nlp(\"banana\")\n",
    "fruit = nlp(\"fruit\")\n",
    "table = nlp(\"table\")\n",
    "print(f'Similarity between banana and fruit: {banana.similarity(fruit)}')\n",
    "print(f'Similarity between banana and table: {banana.similarity(table)}')"
   ]
  },
  {
   "cell_type": "markdown",
   "metadata": {},
   "source": [
    "## Find Similar Words"
   ]
  },
  {
   "cell_type": "code",
   "execution_count": 3,
   "metadata": {},
   "outputs": [
    {
     "name": "stderr",
     "output_type": "stream",
     "text": [
      "Loading all words: 100%|██████████| 776469/776469 [00:06<00:00, 127025.35it/s]\n",
      "Loading all vectors: 100%|██████████| 514092/514092 [00:01<00:00, 448628.16it/s]\n"
     ]
    }
   ],
   "source": [
    "def create_faiss_index(nlp):\n",
    "    \"\"\"\n",
    "    Create a FAISS index for the word vectors in the given spaCy model and store words as metadata.\n",
    "\n",
    "    Args:\n",
    "        nlp: The spaCy language model.\n",
    "\n",
    "    Returns:\n",
    "        faiss_index: The FAISS index of word vectors.\n",
    "        word_list: List of words corresponding to the vectors in the FAISS index.\n",
    "    \"\"\"\n",
    "    # Filter the words to only those that have vectors\n",
    "    words = [word for word in tqdm(nlp.vocab.strings, \"Loading all words\") if nlp.vocab.has_vector(word)]\n",
    "\n",
    "    # Create a matrix to hold all vectors of words that have one\n",
    "    vectors = np.zeros((len(words), nlp.vocab.vectors_length), dtype='float32')\n",
    "    \n",
    "    for i, word in enumerate(tqdm(words, \"Loading all vectors\")):\n",
    "        vectors[i] = nlp.vocab.get_vector(word)\n",
    "    \n",
    "    # Normalize the vectors (important for cosine similarity)\n",
    "    faiss.normalize_L2(vectors)\n",
    "    \n",
    "    # Create a flat, L2 FAISS index\n",
    "    index = faiss.IndexFlatL2(vectors.shape[1])\n",
    "    index.add(vectors)\n",
    "    \n",
    "    return index, words\n",
    "\n",
    "# Create the FAISS index and word list\n",
    "faiss_index, words = create_faiss_index(nlp)"
   ]
  },
  {
   "cell_type": "code",
   "execution_count": 4,
   "metadata": {},
   "outputs": [],
   "source": [
    "def find_similar_words(faiss_index, words, query, nlp, topn=10):\n",
    "    \"\"\"\n",
    "    Find the most similar words to the query word using a FAISS index.\n",
    "\n",
    "    Args:\n",
    "        faiss_index: The FAISS index where word vectors are stored.\n",
    "        words: The list of words that corresponds to the vectors in the FAISS index.\n",
    "        query: The query word to find similarities for.\n",
    "        nlp: The loaded spaCy language model.\n",
    "        topn: The number of similar words to return.\n",
    "\n",
    "    Returns:\n",
    "        A list of the most similar words with their similarity scores.\n",
    "    \"\"\"\n",
    "    # Get the vector for the query word\n",
    "    query_vector = nlp.vocab.get_vector(query).reshape(1, -1)\n",
    "    \n",
    "    # Normalize the query vector\n",
    "    faiss.normalize_L2(query_vector)\n",
    "    \n",
    "    # Search the index for similar vectors\n",
    "    distances, indices = faiss_index.search(query_vector, topn)\n",
    "    \n",
    "    # Return the words corresponding to the indices\n",
    "    return [(words[idx], 1 - distances[0][i]) for i, idx in enumerate(indices[0])]"
   ]
  },
  {
   "cell_type": "code",
   "execution_count": 5,
   "metadata": {},
   "outputs": [
    {
     "name": "stdout",
     "output_type": "stream",
     "text": [
      "Top 10 words most similar to \"dog\":\n",
      "1: dog (1.00)\n",
      "2: dogs (0.67)\n",
      "3: cat (0.64)\n",
      "4: puppy (0.62)\n",
      "5: pet (0.57)\n",
      "6: pup (0.49)\n",
      "7: canine (0.44)\n",
      "8: wolfdogs (0.42)\n",
      "9: dogsled (0.41)\n",
      "10: uppy (0.40)\n"
     ]
    }
   ],
   "source": [
    "# Find similar words\n",
    "similar_words = find_similar_words(faiss_index, words, 'dog', nlp, topn=10)\n",
    "print('Top 10 words most similar to \"dog\":')\n",
    "for index, (word, score) in enumerate(similar_words):\n",
    "    print(f'{index+1}: {word} ({score:.2f})')"
   ]
  },
  {
   "cell_type": "code",
   "execution_count": 6,
   "metadata": {},
   "outputs": [
    {
     "name": "stdout",
     "output_type": "stream",
     "text": [
      "Top 10 words most similar to \"cheese\":\n",
      "1: cheese (1.00)\n",
      "2: cheesed (0.90)\n",
      "3: cheesey (0.89)\n",
      "4: cheeses (0.81)\n",
      "5: headcheese (0.76)\n",
      "6: cheesesteak (0.72)\n",
      "7: -St (0.71)\n",
      "8: cheesesteaks (0.70)\n",
      "9: -Cheese (0.65)\n",
      "10: theese (0.63)\n"
     ]
    }
   ],
   "source": [
    "# Find similar words\n",
    "similar_words = find_similar_words(faiss_index, words, 'cheese', nlp, topn=10)\n",
    "print('Top 10 words most similar to \"cheese\":')\n",
    "for index, (word, score) in enumerate(similar_words):\n",
    "    print(f'{index+1}: {word} ({score:.2f})')"
   ]
  },
  {
   "cell_type": "code",
   "execution_count": 7,
   "metadata": {},
   "outputs": [
    {
     "name": "stdout",
     "output_type": "stream",
     "text": [
      "Top 10 words most similar to \"baseball\":\n",
      "1: baseball (1.00)\n",
      "2: D1Baseball (0.74)\n",
      "3: baseballs (0.71)\n",
      "4: Cueball (0.70)\n",
      "5: theball (0.69)\n",
      "6: softball (0.68)\n",
      "7: skeeball (0.65)\n",
      "8: nutball (0.64)\n",
      "9: Greaseball (0.62)\n",
      "10: Dodgeball (0.60)\n"
     ]
    }
   ],
   "source": [
    "# Find similar words\n",
    "similar_words = find_similar_words(faiss_index, words, 'baseball', nlp, topn=10)\n",
    "print('Top 10 words most similar to \"baseball\":')\n",
    "for index, (word, score) in enumerate(similar_words):\n",
    "    print(f'{index+1}: {word} ({score:.2f})')"
   ]
  },
  {
   "cell_type": "markdown",
   "metadata": {},
   "source": [
    "## Explore Analogies"
   ]
  },
  {
   "cell_type": "code",
   "execution_count": 8,
   "metadata": {},
   "outputs": [],
   "source": [
    "def find_analogy(faiss_index, words, word1, word2, word3, nlp):\n",
    "    \"\"\"\n",
    "    Compute the analogy of the form word1:word2 as word3:? using a FAISS index.\n",
    "\n",
    "    This function finds the word that best completes the analogy given three words.\n",
    "    It uses vector arithmetic (word3 - word1 + word2) to find the target vector and then\n",
    "    searches for the closest word vector in the FAISS index.\n",
    "\n",
    "    Args:\n",
    "        faiss_index: The FAISS index where word vectors are stored.\n",
    "        words: The list of words that corresponds to the vectors in the FAISS index.\n",
    "        word1: The first word in the analogy.\n",
    "        word2: The second word in the analogy.\n",
    "        word3: The third word in the analogy.\n",
    "        nlp: The loaded spaCy language model.\n",
    "\n",
    "    Returns:\n",
    "        The computed word that completes the analogy.\n",
    "    \"\"\"\n",
    "    # Compute vectors for the given words\n",
    "    vec1 = nlp.vocab.get_vector(word1).reshape(1, -1)\n",
    "    vec2 = nlp.vocab.get_vector(word2).reshape(1, -1)\n",
    "    vec3 = nlp.vocab.get_vector(word3).reshape(1, -1)\n",
    "\n",
    "    # Compute the target vector for the analogy\n",
    "    target_vector = vec3 - vec1 + vec2\n",
    "\n",
    "    # Normalize the target vector\n",
    "    faiss.normalize_L2(target_vector)\n",
    "\n",
    "    # Search the index for the vector closest to the target vector\n",
    "    _, indices = faiss_index.search(target_vector, 4)\n",
    "\n",
    "    # Filter out the input words\n",
    "    indices = [idx for idx in indices[0] if words[idx] not in [word1, word2, word3]]\n",
    "\n",
    "    return words[indices[0]]"
   ]
  },
  {
   "cell_type": "code",
   "execution_count": 9,
   "metadata": {},
   "outputs": [
    {
     "data": {
      "text/plain": [
       "'woman--'"
      ]
     },
     "execution_count": 9,
     "metadata": {},
     "output_type": "execute_result"
    }
   ],
   "source": [
    "find_analogy(faiss_index, words, 'king', 'man', 'queen', nlp)"
   ]
  },
  {
   "cell_type": "code",
   "execution_count": 10,
   "metadata": {},
   "outputs": [
    {
     "data": {
      "text/plain": [
       "'snowshoes'"
      ]
     },
     "execution_count": 10,
     "metadata": {},
     "output_type": "execute_result"
    }
   ],
   "source": [
    "find_analogy(faiss_index, words, 'rain', 'raincoat', 'snow', nlp)"
   ]
  },
  {
   "cell_type": "code",
   "execution_count": 11,
   "metadata": {},
   "outputs": [
    {
     "data": {
      "text/plain": [
       "'midafternoon'"
      ]
     },
     "execution_count": 11,
     "metadata": {},
     "output_type": "execute_result"
    }
   ],
   "source": [
    "find_analogy(faiss_index, words, 'coffee', 'morning', 'tea', nlp)"
   ]
  },
  {
   "cell_type": "markdown",
   "metadata": {},
   "source": [
    "## Visualize Word Vectors"
   ]
  },
  {
   "cell_type": "code",
   "execution_count": 12,
   "metadata": {},
   "outputs": [
    {
     "data": {
      "application/vnd.plotly.v1+json": {
       "config": {
        "plotlyServerURL": "https://plot.ly"
       },
       "data": [
        {
         "marker": {
          "color": [
           "red",
           "red",
           "red",
           "red",
           "red",
           "red",
           "red",
           "red",
           "red",
           "red",
           "red",
           "red",
           "red",
           "red",
           "red",
           "red",
           "red",
           "red",
           "red",
           "red",
           "red",
           "red",
           "red",
           "red",
           "red",
           "red",
           "red",
           "red",
           "red",
           "red",
           "red",
           "red",
           "red",
           "red",
           "red",
           "red",
           "red",
           "red",
           "red",
           "red",
           "red",
           "red",
           "red",
           "red",
           "red",
           "red",
           "red",
           "red",
           "red",
           "red",
           "green",
           "green",
           "green",
           "green",
           "green",
           "green",
           "green",
           "green",
           "green",
           "green",
           "green",
           "green",
           "green",
           "green",
           "green",
           "green",
           "green",
           "green",
           "green",
           "green",
           "green",
           "green",
           "green",
           "green",
           "green",
           "green",
           "green",
           "green",
           "green",
           "green",
           "green",
           "green",
           "green",
           "green",
           "green",
           "green",
           "green",
           "green",
           "green",
           "green",
           "green",
           "green",
           "green",
           "green",
           "green",
           "green",
           "green",
           "green",
           "green",
           "green",
           "blue",
           "blue",
           "blue",
           "blue",
           "blue",
           "blue",
           "blue",
           "blue",
           "blue",
           "blue",
           "blue",
           "blue",
           "blue",
           "blue",
           "blue",
           "blue",
           "blue",
           "blue",
           "blue",
           "blue",
           "blue",
           "blue",
           "blue",
           "blue",
           "blue",
           "blue",
           "blue",
           "blue",
           "blue",
           "blue",
           "blue",
           "blue",
           "blue",
           "blue",
           "blue",
           "blue",
           "blue",
           "blue",
           "blue",
           "blue",
           "blue",
           "blue",
           "blue",
           "blue",
           "blue",
           "blue",
           "blue",
           "blue",
           "blue",
           "blue",
           "orange",
           "orange",
           "orange",
           "orange",
           "orange",
           "orange",
           "orange",
           "orange",
           "orange",
           "orange",
           "orange",
           "orange",
           "orange",
           "orange",
           "orange",
           "orange",
           "orange",
           "orange",
           "orange",
           "orange",
           "orange",
           "orange",
           "orange",
           "orange",
           "orange",
           "orange",
           "orange",
           "orange",
           "orange",
           "orange",
           "orange",
           "orange",
           "orange",
           "orange",
           "orange",
           "orange",
           "orange",
           "orange",
           "orange",
           "orange",
           "orange",
           "orange",
           "orange",
           "orange",
           "orange",
           "orange",
           "orange",
           "orange",
           "orange",
           "orange"
          ],
          "opacity": 0.8,
          "size": 8
         },
         "mode": "markers+text",
         "text": [
          "king",
          "kings",
          "kingi",
          "princes",
          "princeling",
          "kingii",
          "prince",
          "ruler",
          "princelings",
          "kingship",
          "princedom",
          "kingly",
          "kingsize",
          "kingdom",
          "monarch",
          "rulers",
          "princedoms",
          "kinglink",
          "throne",
          "emperor",
          "kingpost",
          "thrones",
          "consort",
          "princeps",
          "chieftain",
          "monarchs",
          "princesses",
          "nobles",
          "kinglet",
          "courtiers",
          "kingside",
          "overlordship",
          "conqueror",
          "kinglets",
          "kingdoms",
          "princesa",
          "throned",
          "overlord",
          "Konqueror",
          "knighting",
          "princely",
          "Allfather",
          "princess",
          "noblemen",
          "conquering",
          "kingmakers",
          "reconquering",
          "emperors",
          "kingmaker",
          "enthrone",
          "vehicle",
          "vehicle-",
          "vehicle(s",
          "vehicleâs",
          "vehicles",
          "20x10",
          "car",
          "automobile",
          "Vehicle",
          "chicle",
          "22:36",
          "automobiles",
          "Vehicles",
          "truck",
          "motorcars",
          "automobil",
          "motorcar",
          "motorcycle",
          "motorglider",
          "motorhome",
          "motorcycles",
          "motorbus",
          "motorbuses",
          "motorcyle",
          "motorik",
          "cars",
          "velomobile",
          "drivetrain",
          "motorbike",
          "motorist",
          "motorhomes",
          "l'automobile",
          "Iphicles",
          "tractor",
          "truck--",
          "vehicular",
          "autos",
          "motor",
          "drivetrains",
          "motorbikes",
          "driver",
          "driveline",
          "motoring",
          "truc",
          "auto",
          "driver's",
          "powertrain",
          "motorcross",
          "railmotor",
          "motorized",
          "apple",
          "apples",
          "applejack",
          "Dapple",
          "applesauce",
          "applecart",
          "applebee",
          "dapple",
          "pineapple",
          "strawberry",
          "Holsapple",
          "grapefruit",
          "cranberry",
          "crabapple",
          "raspberry",
          "blueberry",
          "blackberry",
          "cherries",
          "strawberries",
          "grapefruits",
          "applet",
          "breadfruit",
          "pear",
          "pineapples",
          "berry",
          "Mapple",
          "cherry",
          "raspberries",
          "kiwifruit",
          "apricot",
          "plum",
          "blackberries",
          "peach",
          "cranberries",
          "fruit",
          "jackfruit",
          "Adafruit",
          "Snapple",
          "sweetpotato",
          "applets",
          "blueberries",
          "banana",
          "grapey",
          "Mayapple",
          "pomegranate",
          "watermelon",
          "pple",
          "lemon",
          "berries",
          "cider",
          "Ganglia",
          "Lefferts",
          "longlines",
          "Chan",
          "FBX",
          "Frappé",
          "Mycenae",
          "NIAMS",
          "OptimizePress",
          "Retailing",
          "Returnees",
          "cabability",
          "careerCredit",
          "d'Amore",
          "d'Aunis",
          "silting",
          "17:46",
          "8.81",
          "BETHANY",
          "Bundela",
          "CDIC",
          "Chiquitos",
          "Cittadella",
          "DWTS",
          "Diamanda",
          "Dubočica",
          "Dunlop",
          "HEATHER",
          "Hangouts",
          "Hayaat",
          "Headlock",
          "Hermeneutical",
          "Hyphen",
          "Iftekhar",
          "Ismael",
          "JAVA",
          "LAURA",
          "Lanfranc",
          "Learning",
          "Loyalton",
          "Morera",
          "Mullis",
          "Narrowcast",
          "PJ",
          "Pêcheur",
          "Racketeering",
          "SUMMONS",
          "Satavahana",
          "Seremban",
          "Shukshin"
         ],
         "textposition": "top center",
         "type": "scatter",
         "x": [
          -0.6882942914962769,
          11.911540031433105,
          8.576314926147461,
          10.58050537109375,
          8.567120552062988,
          8.18436050415039,
          10.575440406799316,
          12.397974014282227,
          8.6287841796875,
          9.023076057434082,
          9.04141616821289,
          9.536148071289062,
          7.72609281539917,
          10.78164005279541,
          10.682231903076172,
          12.118582725524902,
          8.997357368469238,
          7.631723880767822,
          9.047109603881836,
          11.82862377166748,
          7.26364278793335,
          8.639925003051758,
          8.602914810180664,
          9.09264087677002,
          6.890683174133301,
          10.705233573913574,
          9.410135269165039,
          11.320027351379395,
          8.168275833129883,
          8.095001220703125,
          7.433357238769531,
          6.423490524291992,
          6.1590352058410645,
          8.176431655883789,
          10.884021759033203,
          9.430386543273926,
          8.593049049377441,
          6.3596954345703125,
          6.224524974822998,
          5.968299388885498,
          9.821442604064941,
          3.772369623184204,
          9.605180740356445,
          11.17886734008789,
          5.418276309967041,
          6.125925540924072,
          5.446046352386475,
          11.683489799499512,
          6.190000534057617,
          8.587035179138184,
          -0.7835800647735596,
          -5.292119979858398,
          -5.197323322296143,
          -5.151432991027832,
          -5.692962169647217,
          -3.613065481185913,
          -5.480886936187744,
          -3.262017250061035,
          -7.329736232757568,
          -4.270329475402832,
          -3.6151516437530518,
          -3.4523777961730957,
          -7.241511821746826,
          -6.453535079956055,
          -4.3282341957092285,
          -3.288907051086426,
          -4.207606792449951,
          -3.9423859119415283,
          -3.6116230487823486,
          -5.636920928955078,
          -3.759701728820801,
          -3.6841979026794434,
          -3.231013298034668,
          -3.9921646118164062,
          -4.150345325469971,
          -5.442471504211426,
          -2.8617355823516846,
          -0.9218890070915222,
          -4.291201591491699,
          -4.835724353790283,
          -5.735429763793945,
          -2.9177005290985107,
          -2.5098674297332764,
          -1.647289514541626,
          -5.738553047180176,
          -1.4782445430755615,
          -3.577281951904297,
          -6.735208034515381,
          -0.9856334328651428,
          -4.1032609939575195,
          -7.470425128936768,
          -1.3293893337249756,
          -1.1530711650848389,
          -5.826459884643555,
          -3.0454158782958984,
          -1.9786136150360107,
          -0.4881323575973511,
          -3.12440824508667,
          -2.9236836433410645,
          -2.1088294982910156,
          -0.8554937243461609,
          -11.337804794311523,
          -5.180115222930908,
          -6.792707443237305,
          -6.521019458770752,
          -4.942298412322998,
          -5.0909576416015625,
          -7.197260856628418,
          -8.768928527832031,
          -8.535303115844727,
          -5.953478813171387,
          -7.766259670257568,
          -8.039365768432617,
          -6.787363052368164,
          -8.282633781433105,
          -8.41991901397705,
          -8.889055252075195,
          -10.387228012084961,
          -9.69618034362793,
          -7.75408935546875,
          -4.2882466316223145,
          -8.524843215942383,
          -11.591140747070312,
          -8.893036842346191,
          -8.68642807006836,
          -6.7402215003967285,
          -9.429789543151855,
          -9.603561401367188,
          -7.898970127105713,
          -9.587523460388184,
          -11.225833892822266,
          -9.634839057922363,
          -10.439305305480957,
          -9.549870491027832,
          -11.305270195007324,
          -8.192137718200684,
          -7.647761821746826,
          -6.962179183959961,
          -6.9204792976379395,
          -4.262664794921875,
          -9.786456108093262,
          -9.225356101989746,
          -7.023193836212158,
          -6.147633075714111,
          -7.939697265625,
          -8.582122802734375,
          -6.698461532592773,
          -6.898110389709473,
          -10.65567684173584,
          -5.945849895477295,
          1.4016597270965576,
          -2.824427604675293,
          -1.5664948225021362,
          1.279885172843933,
          -1.2492408752441406,
          -1.810771107673645,
          2.27233624458313,
          -1.4163026809692383,
          -1.3820353746414185,
          0.8727366924285889,
          0.5353735089302063,
          -0.32135337591171265,
          -2.6463916301727295,
          0.18059749901294708,
          -0.7134693264961243,
          1.8180934190750122,
          -1.092971920967102,
          -1.174882173538208,
          -1.4161931276321411,
          1.5426019430160522,
          -0.8839273452758789,
          -1.3258795738220215,
          -0.22144638001918793,
          -1.9598643779754639,
          -0.7944645881652832,
          -0.9724594354629517,
          -4.195582866668701,
          -2.7571253776550293,
          -2.6135501861572266,
          -0.20048363506793976,
          -4.088132381439209,
          -0.23513002693653107,
          -1.81023371219635,
          0.18459762632846832,
          0.07119164615869522,
          -1.601463794708252,
          -2.319200038909912,
          0.4971511960029602,
          0.2902422547340393,
          -3.0432329177856445,
          -0.08757802098989487,
          -3.6611342430114746,
          -0.4652198851108551,
          -3.4613702297210693,
          -1.3422856330871582,
          0.9555069208145142,
          -1.8651175498962402,
          1.3204554319381714,
          0.5608769655227661,
          1.0872386693954468
         ],
         "y": [
          -0.2019883394241333,
          -2.1905953884124756,
          -1.382711410522461,
          1.214768409729004,
          1.773386001586914,
          -1.3039004802703857,
          0.9298068881034851,
          -1.469507098197937,
          1.6412255764007568,
          -1.9308480024337769,
          0.764022171497345,
          -0.8886774778366089,
          -1.702759861946106,
          -2.792760133743286,
          -0.9901086688041687,
          -1.6672083139419556,
          0.6648765802383423,
          -1.0904914140701294,
          -3.8554508686065674,
          -0.14631883800029755,
          -1.2071812152862549,
          -3.526602268218994,
          2.794745922088623,
          0.6080628633499146,
          0.021948857232928276,
          -0.9261209964752197,
          1.8715931177139282,
          2.0366549491882324,
          -0.758598268032074,
          1.6149446964263916,
          -2.303274154663086,
          1.7793669700622559,
          -1.2838692665100098,
          -0.620146632194519,
          -2.747941255569458,
          1.242829442024231,
          -3.5438685417175293,
          1.7894034385681152,
          -1.1929932832717896,
          3.2956297397613525,
          0.6539860367774963,
          1.6852154731750488,
          1.8078261613845825,
          2.108848810195923,
          2.695524215698242,
          0.03390965238213539,
          2.7212862968444824,
          -0.22565311193466187,
          -0.09163490682840347,
          -2.7720072269439697,
          -0.10635294765233994,
          11.619382858276367,
          11.48451042175293,
          11.216498374938965,
          12.367470741271973,
          7.036608695983887,
          13.68618392944336,
          12.073280334472656,
          12.25757884979248,
          7.2822418212890625,
          6.715788841247559,
          11.928670883178711,
          12.259736061096191,
          8.038363456726074,
          9.833627700805664,
          12.02529525756836,
          9.45333194732666,
          10.520652770996094,
          8.833094596862793,
          9.824677467346191,
          10.629549980163574,
          9.191944122314453,
          9.404644012451172,
          9.464598655700684,
          9.24796199798584,
          13.126646995544434,
          7.804465293884277,
          10.996254920959473,
          10.000565528869629,
          8.786249160766602,
          9.880107879638672,
          8.005724906921387,
          6.779104709625244,
          12.238324165344238,
          7.611989974975586,
          8.575905799865723,
          12.611538887023926,
          10.408278465270996,
          10.962909698486328,
          10.08134937286377,
          9.157971382141113,
          10.584704399108887,
          9.329962730407715,
          7.580306053161621,
          13.206618309020996,
          10.500974655151367,
          11.019600868225098,
          9.997838973999023,
          9.211793899536133,
          9.208047866821289,
          -0.2887881100177765,
          -9.017173767089844,
          -6.419586658477783,
          -4.757682800292969,
          -7.552721977233887,
          -6.344091415405273,
          -6.3989434242248535,
          -5.025482654571533,
          -7.644724369049072,
          -9.453641891479492,
          -4.495960235595703,
          -8.424651145935059,
          -9.649572372436523,
          -5.370952606201172,
          -10.051129341125488,
          -9.90074348449707,
          -10.118843078613281,
          -9.269301414489746,
          -8.835598945617676,
          -8.323323249816895,
          -7.284602642059326,
          -6.908646583557129,
          -7.227552890777588,
          -7.807250499725342,
          -11.107316970825195,
          -4.521237373352051,
          -10.89270305633545,
          -8.995994567871094,
          -7.154991626739502,
          -7.617769241333008,
          -7.7137675285339355,
          -9.448967933654785,
          -7.231660842895508,
          -8.868596076965332,
          -10.480408668518066,
          -7.007801532745361,
          -6.845272541046143,
          -4.2009663581848145,
          -6.906576156616211,
          -7.465458869934082,
          -9.090476036071777,
          -6.3256096839904785,
          -8.382518768310547,
          -4.591144561767578,
          -7.623839855194092,
          -8.152117729187012,
          -4.007523059844971,
          -10.225242614746094,
          -9.720084190368652,
          -8.982063293457031,
          -2.090529441833496,
          -1.1164342164993286,
          5.4761199951171875,
          -3.287086009979248,
          0.9924828410148621,
          -0.8576431274414062,
          -1.0023256540298462,
          -0.1860031932592392,
          2.4772274494171143,
          4.216710090637207,
          1.2300113439559937,
          5.171941757202148,
          2.0348331928253174,
          -0.2894411087036133,
          -1.3260176181793213,
          4.359012603759766,
          0.3100891411304474,
          -0.4869319796562195,
          -0.1820618212223053,
          0.10869351029396057,
          0.12601248919963837,
          -2.5008695125579834,
          -1.9856404066085815,
          -0.4768884778022766,
          -3.2977592945098877,
          -0.8389357328414917,
          -0.7641753554344177,
          0.8789427280426025,
          -3.017143487930298,
          -1.03935706615448,
          1.2246084213256836,
          3.421311616897583,
          -1.8847253322601318,
          -0.9290629625320435,
          -2.838796854019165,
          0.8973284363746643,
          0.2931738793849945,
          0.198040172457695,
          4.45853853225708,
          -1.8673231601715088,
          -3.565488576889038,
          -1.4166356325149536,
          1.5225553512573242,
          0.20586071908473969,
          -1.0176535844802856,
          3.50471830368042,
          0.28427234292030334,
          -1.0996702909469604,
          -1.6958144903182983,
          2.827075719833374
         ]
        }
       ],
       "layout": {
        "margin": {
         "b": 40,
         "l": 40,
         "r": 40,
         "t": 40
        },
        "template": {
         "data": {
          "bar": [
           {
            "error_x": {
             "color": "#2a3f5f"
            },
            "error_y": {
             "color": "#2a3f5f"
            },
            "marker": {
             "line": {
              "color": "#E5ECF6",
              "width": 0.5
             },
             "pattern": {
              "fillmode": "overlay",
              "size": 10,
              "solidity": 0.2
             }
            },
            "type": "bar"
           }
          ],
          "barpolar": [
           {
            "marker": {
             "line": {
              "color": "#E5ECF6",
              "width": 0.5
             },
             "pattern": {
              "fillmode": "overlay",
              "size": 10,
              "solidity": 0.2
             }
            },
            "type": "barpolar"
           }
          ],
          "carpet": [
           {
            "aaxis": {
             "endlinecolor": "#2a3f5f",
             "gridcolor": "white",
             "linecolor": "white",
             "minorgridcolor": "white",
             "startlinecolor": "#2a3f5f"
            },
            "baxis": {
             "endlinecolor": "#2a3f5f",
             "gridcolor": "white",
             "linecolor": "white",
             "minorgridcolor": "white",
             "startlinecolor": "#2a3f5f"
            },
            "type": "carpet"
           }
          ],
          "choropleth": [
           {
            "colorbar": {
             "outlinewidth": 0,
             "ticks": ""
            },
            "type": "choropleth"
           }
          ],
          "contour": [
           {
            "colorbar": {
             "outlinewidth": 0,
             "ticks": ""
            },
            "colorscale": [
             [
              0,
              "#0d0887"
             ],
             [
              0.1111111111111111,
              "#46039f"
             ],
             [
              0.2222222222222222,
              "#7201a8"
             ],
             [
              0.3333333333333333,
              "#9c179e"
             ],
             [
              0.4444444444444444,
              "#bd3786"
             ],
             [
              0.5555555555555556,
              "#d8576b"
             ],
             [
              0.6666666666666666,
              "#ed7953"
             ],
             [
              0.7777777777777778,
              "#fb9f3a"
             ],
             [
              0.8888888888888888,
              "#fdca26"
             ],
             [
              1,
              "#f0f921"
             ]
            ],
            "type": "contour"
           }
          ],
          "contourcarpet": [
           {
            "colorbar": {
             "outlinewidth": 0,
             "ticks": ""
            },
            "type": "contourcarpet"
           }
          ],
          "heatmap": [
           {
            "colorbar": {
             "outlinewidth": 0,
             "ticks": ""
            },
            "colorscale": [
             [
              0,
              "#0d0887"
             ],
             [
              0.1111111111111111,
              "#46039f"
             ],
             [
              0.2222222222222222,
              "#7201a8"
             ],
             [
              0.3333333333333333,
              "#9c179e"
             ],
             [
              0.4444444444444444,
              "#bd3786"
             ],
             [
              0.5555555555555556,
              "#d8576b"
             ],
             [
              0.6666666666666666,
              "#ed7953"
             ],
             [
              0.7777777777777778,
              "#fb9f3a"
             ],
             [
              0.8888888888888888,
              "#fdca26"
             ],
             [
              1,
              "#f0f921"
             ]
            ],
            "type": "heatmap"
           }
          ],
          "heatmapgl": [
           {
            "colorbar": {
             "outlinewidth": 0,
             "ticks": ""
            },
            "colorscale": [
             [
              0,
              "#0d0887"
             ],
             [
              0.1111111111111111,
              "#46039f"
             ],
             [
              0.2222222222222222,
              "#7201a8"
             ],
             [
              0.3333333333333333,
              "#9c179e"
             ],
             [
              0.4444444444444444,
              "#bd3786"
             ],
             [
              0.5555555555555556,
              "#d8576b"
             ],
             [
              0.6666666666666666,
              "#ed7953"
             ],
             [
              0.7777777777777778,
              "#fb9f3a"
             ],
             [
              0.8888888888888888,
              "#fdca26"
             ],
             [
              1,
              "#f0f921"
             ]
            ],
            "type": "heatmapgl"
           }
          ],
          "histogram": [
           {
            "marker": {
             "pattern": {
              "fillmode": "overlay",
              "size": 10,
              "solidity": 0.2
             }
            },
            "type": "histogram"
           }
          ],
          "histogram2d": [
           {
            "colorbar": {
             "outlinewidth": 0,
             "ticks": ""
            },
            "colorscale": [
             [
              0,
              "#0d0887"
             ],
             [
              0.1111111111111111,
              "#46039f"
             ],
             [
              0.2222222222222222,
              "#7201a8"
             ],
             [
              0.3333333333333333,
              "#9c179e"
             ],
             [
              0.4444444444444444,
              "#bd3786"
             ],
             [
              0.5555555555555556,
              "#d8576b"
             ],
             [
              0.6666666666666666,
              "#ed7953"
             ],
             [
              0.7777777777777778,
              "#fb9f3a"
             ],
             [
              0.8888888888888888,
              "#fdca26"
             ],
             [
              1,
              "#f0f921"
             ]
            ],
            "type": "histogram2d"
           }
          ],
          "histogram2dcontour": [
           {
            "colorbar": {
             "outlinewidth": 0,
             "ticks": ""
            },
            "colorscale": [
             [
              0,
              "#0d0887"
             ],
             [
              0.1111111111111111,
              "#46039f"
             ],
             [
              0.2222222222222222,
              "#7201a8"
             ],
             [
              0.3333333333333333,
              "#9c179e"
             ],
             [
              0.4444444444444444,
              "#bd3786"
             ],
             [
              0.5555555555555556,
              "#d8576b"
             ],
             [
              0.6666666666666666,
              "#ed7953"
             ],
             [
              0.7777777777777778,
              "#fb9f3a"
             ],
             [
              0.8888888888888888,
              "#fdca26"
             ],
             [
              1,
              "#f0f921"
             ]
            ],
            "type": "histogram2dcontour"
           }
          ],
          "mesh3d": [
           {
            "colorbar": {
             "outlinewidth": 0,
             "ticks": ""
            },
            "type": "mesh3d"
           }
          ],
          "parcoords": [
           {
            "line": {
             "colorbar": {
              "outlinewidth": 0,
              "ticks": ""
             }
            },
            "type": "parcoords"
           }
          ],
          "pie": [
           {
            "automargin": true,
            "type": "pie"
           }
          ],
          "scatter": [
           {
            "fillpattern": {
             "fillmode": "overlay",
             "size": 10,
             "solidity": 0.2
            },
            "type": "scatter"
           }
          ],
          "scatter3d": [
           {
            "line": {
             "colorbar": {
              "outlinewidth": 0,
              "ticks": ""
             }
            },
            "marker": {
             "colorbar": {
              "outlinewidth": 0,
              "ticks": ""
             }
            },
            "type": "scatter3d"
           }
          ],
          "scattercarpet": [
           {
            "marker": {
             "colorbar": {
              "outlinewidth": 0,
              "ticks": ""
             }
            },
            "type": "scattercarpet"
           }
          ],
          "scattergeo": [
           {
            "marker": {
             "colorbar": {
              "outlinewidth": 0,
              "ticks": ""
             }
            },
            "type": "scattergeo"
           }
          ],
          "scattergl": [
           {
            "marker": {
             "colorbar": {
              "outlinewidth": 0,
              "ticks": ""
             }
            },
            "type": "scattergl"
           }
          ],
          "scattermapbox": [
           {
            "marker": {
             "colorbar": {
              "outlinewidth": 0,
              "ticks": ""
             }
            },
            "type": "scattermapbox"
           }
          ],
          "scatterpolar": [
           {
            "marker": {
             "colorbar": {
              "outlinewidth": 0,
              "ticks": ""
             }
            },
            "type": "scatterpolar"
           }
          ],
          "scatterpolargl": [
           {
            "marker": {
             "colorbar": {
              "outlinewidth": 0,
              "ticks": ""
             }
            },
            "type": "scatterpolargl"
           }
          ],
          "scatterternary": [
           {
            "marker": {
             "colorbar": {
              "outlinewidth": 0,
              "ticks": ""
             }
            },
            "type": "scatterternary"
           }
          ],
          "surface": [
           {
            "colorbar": {
             "outlinewidth": 0,
             "ticks": ""
            },
            "colorscale": [
             [
              0,
              "#0d0887"
             ],
             [
              0.1111111111111111,
              "#46039f"
             ],
             [
              0.2222222222222222,
              "#7201a8"
             ],
             [
              0.3333333333333333,
              "#9c179e"
             ],
             [
              0.4444444444444444,
              "#bd3786"
             ],
             [
              0.5555555555555556,
              "#d8576b"
             ],
             [
              0.6666666666666666,
              "#ed7953"
             ],
             [
              0.7777777777777778,
              "#fb9f3a"
             ],
             [
              0.8888888888888888,
              "#fdca26"
             ],
             [
              1,
              "#f0f921"
             ]
            ],
            "type": "surface"
           }
          ],
          "table": [
           {
            "cells": {
             "fill": {
              "color": "#EBF0F8"
             },
             "line": {
              "color": "white"
             }
            },
            "header": {
             "fill": {
              "color": "#C8D4E3"
             },
             "line": {
              "color": "white"
             }
            },
            "type": "table"
           }
          ]
         },
         "layout": {
          "annotationdefaults": {
           "arrowcolor": "#2a3f5f",
           "arrowhead": 0,
           "arrowwidth": 1
          },
          "autotypenumbers": "strict",
          "coloraxis": {
           "colorbar": {
            "outlinewidth": 0,
            "ticks": ""
           }
          },
          "colorscale": {
           "diverging": [
            [
             0,
             "#8e0152"
            ],
            [
             0.1,
             "#c51b7d"
            ],
            [
             0.2,
             "#de77ae"
            ],
            [
             0.3,
             "#f1b6da"
            ],
            [
             0.4,
             "#fde0ef"
            ],
            [
             0.5,
             "#f7f7f7"
            ],
            [
             0.6,
             "#e6f5d0"
            ],
            [
             0.7,
             "#b8e186"
            ],
            [
             0.8,
             "#7fbc41"
            ],
            [
             0.9,
             "#4d9221"
            ],
            [
             1,
             "#276419"
            ]
           ],
           "sequential": [
            [
             0,
             "#0d0887"
            ],
            [
             0.1111111111111111,
             "#46039f"
            ],
            [
             0.2222222222222222,
             "#7201a8"
            ],
            [
             0.3333333333333333,
             "#9c179e"
            ],
            [
             0.4444444444444444,
             "#bd3786"
            ],
            [
             0.5555555555555556,
             "#d8576b"
            ],
            [
             0.6666666666666666,
             "#ed7953"
            ],
            [
             0.7777777777777778,
             "#fb9f3a"
            ],
            [
             0.8888888888888888,
             "#fdca26"
            ],
            [
             1,
             "#f0f921"
            ]
           ],
           "sequentialminus": [
            [
             0,
             "#0d0887"
            ],
            [
             0.1111111111111111,
             "#46039f"
            ],
            [
             0.2222222222222222,
             "#7201a8"
            ],
            [
             0.3333333333333333,
             "#9c179e"
            ],
            [
             0.4444444444444444,
             "#bd3786"
            ],
            [
             0.5555555555555556,
             "#d8576b"
            ],
            [
             0.6666666666666666,
             "#ed7953"
            ],
            [
             0.7777777777777778,
             "#fb9f3a"
            ],
            [
             0.8888888888888888,
             "#fdca26"
            ],
            [
             1,
             "#f0f921"
            ]
           ]
          },
          "colorway": [
           "#636efa",
           "#EF553B",
           "#00cc96",
           "#ab63fa",
           "#FFA15A",
           "#19d3f3",
           "#FF6692",
           "#B6E880",
           "#FF97FF",
           "#FECB52"
          ],
          "font": {
           "color": "#2a3f5f"
          },
          "geo": {
           "bgcolor": "white",
           "lakecolor": "white",
           "landcolor": "#E5ECF6",
           "showlakes": true,
           "showland": true,
           "subunitcolor": "white"
          },
          "hoverlabel": {
           "align": "left"
          },
          "hovermode": "closest",
          "mapbox": {
           "style": "light"
          },
          "paper_bgcolor": "white",
          "plot_bgcolor": "#E5ECF6",
          "polar": {
           "angularaxis": {
            "gridcolor": "white",
            "linecolor": "white",
            "ticks": ""
           },
           "bgcolor": "#E5ECF6",
           "radialaxis": {
            "gridcolor": "white",
            "linecolor": "white",
            "ticks": ""
           }
          },
          "scene": {
           "xaxis": {
            "backgroundcolor": "#E5ECF6",
            "gridcolor": "white",
            "gridwidth": 2,
            "linecolor": "white",
            "showbackground": true,
            "ticks": "",
            "zerolinecolor": "white"
           },
           "yaxis": {
            "backgroundcolor": "#E5ECF6",
            "gridcolor": "white",
            "gridwidth": 2,
            "linecolor": "white",
            "showbackground": true,
            "ticks": "",
            "zerolinecolor": "white"
           },
           "zaxis": {
            "backgroundcolor": "#E5ECF6",
            "gridcolor": "white",
            "gridwidth": 2,
            "linecolor": "white",
            "showbackground": true,
            "ticks": "",
            "zerolinecolor": "white"
           }
          },
          "shapedefaults": {
           "line": {
            "color": "#2a3f5f"
           }
          },
          "ternary": {
           "aaxis": {
            "gridcolor": "white",
            "linecolor": "white",
            "ticks": ""
           },
           "baxis": {
            "gridcolor": "white",
            "linecolor": "white",
            "ticks": ""
           },
           "bgcolor": "#E5ECF6",
           "caxis": {
            "gridcolor": "white",
            "linecolor": "white",
            "ticks": ""
           }
          },
          "title": {
           "x": 0.05
          },
          "xaxis": {
           "automargin": true,
           "gridcolor": "white",
           "linecolor": "white",
           "ticks": "",
           "title": {
            "standoff": 15
           },
           "zerolinecolor": "white",
           "zerolinewidth": 2
          },
          "yaxis": {
           "automargin": true,
           "gridcolor": "white",
           "linecolor": "white",
           "ticks": "",
           "title": {
            "standoff": 15
           },
           "zerolinecolor": "white",
           "zerolinewidth": 2
          }
         }
        },
        "title": {
         "text": "2D t-SNE visualization for king, vehicle, apple, coffeetable"
        },
        "xaxis": {
         "showgrid": false,
         "showticklabels": false,
         "zeroline": false
        },
        "yaxis": {
         "showgrid": false,
         "showticklabels": false,
         "zeroline": false
        }
       }
      }
     },
     "metadata": {},
     "output_type": "display_data"
    }
   ],
   "source": [
    "def create_2d_tsne_plot_multi_queries_colored(faiss_index, words, query_words, nlp, topn=10):\n",
    "    \"\"\"\n",
    "    Create a 2D t-SNE plot of the topn similar words to multiple query words, with each query word's similar\n",
    "    words colored differently.\n",
    "\n",
    "    Args:\n",
    "        faiss_index: The FAISS index of word vectors.\n",
    "        words: List of words corresponding to the vectors in the FAISS index.\n",
    "        query_words: A list of words to center the plot on.\n",
    "        nlp: The loaded spaCy language model.\n",
    "        topn: Number of similar words to include in the plot for each query word.\n",
    "\n",
    "    Returns:\n",
    "        A Plotly figure object.\n",
    "    \"\"\"\n",
    "    all_similar_words = []\n",
    "    word_labels = []\n",
    "    colors = []\n",
    "    color_map = {}  # Map each query word to a unique color\n",
    "    available_colors = ['red', 'green', 'blue', 'orange', 'purple', 'yellow', 'cyan', 'magenta', 'lime', 'pink']\n",
    "\n",
    "    # Assign a unique color to each query word\n",
    "    for i, query_word in enumerate(query_words):\n",
    "        color_map[query_word] = available_colors[i % len(available_colors)]\n",
    "\n",
    "    for query_word in query_words:\n",
    "        similar_words = find_similar_words(faiss_index, words, query_word, nlp, topn=topn)\n",
    "        for word, _ in similar_words:\n",
    "            if word not in word_labels:  # Ensure unique words\n",
    "                all_similar_words.append(nlp.vocab.get_vector(word))\n",
    "                word_labels.append(word)\n",
    "                colors.append(color_map[query_word])\n",
    "\n",
    "    if not all_similar_words:\n",
    "        raise ValueError(\"No similar words found for the given queries.\")\n",
    "\n",
    "    # Extract the vectors for these words\n",
    "    vectors = np.array(all_similar_words)\n",
    "    \n",
    "    # Run t-SNE\n",
    "    tsne = TSNE(n_components=2, random_state=42)\n",
    "    reduced_vectors = tsne.fit_transform(vectors)\n",
    "    \n",
    "    # Plot\n",
    "    fig = go.Figure(data=go.Scatter(\n",
    "        x=reduced_vectors[:,0],\n",
    "        y=reduced_vectors[:,1],\n",
    "        mode='markers+text',\n",
    "        text=word_labels,\n",
    "        marker=dict(\n",
    "            size=8,\n",
    "            color=colors,  # Apply the color mapping\n",
    "            opacity=0.8,\n",
    "        ),\n",
    "        textposition=\"top center\"\n",
    "    ))\n",
    "    \n",
    "    # Customize layout\n",
    "    title_query = \", \".join(query_words)\n",
    "    fig.update_layout(title=f\"2D t-SNE visualization for {title_query}\", margin=dict(l=0, r=0, b=0, t=0), xaxis=dict(showgrid=False, zeroline=False, showticklabels=False), yaxis=dict(showgrid=False, zeroline=False, showticklabels=False))\n",
    "\n",
    "    fig.update_layout(\n",
    "        margin=dict(l=40, r=40, b=40, t=40),  # Adjust these values as needed to fit the labels\n",
    "        xaxis=dict(showgrid=False, zeroline=False, showticklabels=False),  # Ensure tick labels are shown if desired\n",
    "        yaxis=dict(showgrid=False, zeroline=False, showticklabels=False)\n",
    "    )\n",
    " \n",
    "    return fig\n",
    "\n",
    "query_words = [\"king\", \"vehicle\", \"apple\", \"coffeetable\"]  # Specify your query words here\n",
    "fig = create_2d_tsne_plot_multi_queries_colored(faiss_index, words, query_words, nlp, topn=50)\n",
    "fig.show()\n"
   ]
  },
  {
   "cell_type": "code",
   "execution_count": null,
   "metadata": {},
   "outputs": [],
   "source": []
  }
 ],
 "metadata": {
  "kernelspec": {
   "display_name": "nlp_course_env",
   "language": "python",
   "name": "python3"
  },
  "language_info": {
   "codemirror_mode": {
    "name": "ipython",
    "version": 3
   },
   "file_extension": ".py",
   "mimetype": "text/x-python",
   "name": "python",
   "nbconvert_exporter": "python",
   "pygments_lexer": "ipython3",
   "version": "3.11.6"
  }
 },
 "nbformat": 4,
 "nbformat_minor": 2
}
