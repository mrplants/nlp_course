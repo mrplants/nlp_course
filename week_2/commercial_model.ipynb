{
 "cells": [
  {
   "cell_type": "markdown",
   "metadata": {},
   "source": [
    "# Week 2: Commercial Models (OPTIONAL)\n",
    "\n",
    "### What are we building\n",
    "We came a long way these past couple a weeks. We learned how to work with word vectors, decoder models, and now encoder models. Now, for our last project we want to encourage you try and implement some ideas you might have had when you joined this course, using one the latest models available via commercial API.  There are several models available, but we will focus on GPT-4-turbo, which is one of the most powerful models available today.\n",
    "\n",
    "### Instructions\n",
    "We will provide you some quick pointers to get you started with GPT-4 and the OpenAI Chat Completions API and also provide ideas that you might try to implement if you are not sure yet what you would like to try.\n",
    "\n",
    "Ideas and references:\n",
    "- https://platform.openai.com/docs/guides/text-generation\n",
    "- https://www.educative.io/blog/top-uses-gpt-3-deep-learning"
   ]
  },
  {
   "cell_type": "markdown",
   "metadata": {},
   "source": [
    "# API Key\n",
    "We need an API key from OpenAI:\n",
    "- Create an [account](https://platform.openai.com/login?launch)\n",
    "- Go to this [link](https://platform.openai.com/api-keys) to create an API key\n",
    "- Use the secret key as API key"
   ]
  },
  {
   "cell_type": "code",
   "execution_count": 5,
   "metadata": {},
   "outputs": [],
   "source": [
    "import os\n",
    "import openai\n",
    "\n",
    "client = openai.Client(api_key=\"sk-...\")"
   ]
  },
  {
   "cell_type": "markdown",
   "metadata": {},
   "source": [
    "# Tutorial\n",
    "\n",
    "Below an example of how you could query GPT-3!\n",
    "\n",
    "The [GitHub repo](https://github.com/openai/openai-python) contains more examples, while the [API](https://beta.openai.com/docs/api-reference?lang=python) provides more insight into the available options."
   ]
  },
  {
   "cell_type": "code",
   "execution_count": 8,
   "metadata": {},
   "outputs": [
    {
     "name": "stdout",
     "output_type": "stream",
     "text": [
      "3. Personalized learning materials for students\n",
      "4. Virtual assistant for mental health support\n",
      "5. Custom workout and diet plans based on user inputs\n",
      "6. Automated customer service for small businesses\n",
      "7. Language learning companion with interactive exercises\n",
      "8. Adaptive story generator for children's bedtime stories\n",
      "9. Predicting stock market trends for investors\n",
      "10. Content summarizer for academic papers and articles\n"
     ]
    }
   ],
   "source": [
    "response = client.chat.completions.create(\n",
    "  model=\"gpt-4-turbo-preview\",\n",
    "  messages=[\n",
    "    {\n",
    "      \"role\": \"system\",\n",
    "      \"content\": \"Complete the user's prompt.\"\n",
    "    },\n",
    "    {\n",
    "      \"role\": \"user\",\n",
    "      \"content\": \"GPT-3 ideas\\n1. Classifying Reddit posts\\n2. Generating Twitter tweets\\n3.\"\n",
    "    }\n",
    "  ],\n",
    "  temperature=1,\n",
    "  max_tokens=256,\n",
    "  top_p=1,\n",
    "  frequency_penalty=0,\n",
    "  presence_penalty=0\n",
    ")\n",
    "\n",
    "response_content = response.choices[0].message.content\n",
    "print(response_content)"
   ]
  },
  {
   "cell_type": "markdown",
   "metadata": {},
   "source": [
    "### Streaming\n",
    "Alternatively, you can stream the model's output to improve the user experience."
   ]
  },
  {
   "cell_type": "code",
   "execution_count": 13,
   "metadata": {},
   "outputs": [
    {
     "name": "stdout",
     "output_type": "stream",
     "text": [
      "3. Writing personalized workout plans\n",
      "4. Creating unique recipes based on dietary restrictions\n",
      "5. Summarizing academic papers for easier comprehension\n",
      "6. Generating code snippets based on natural language descriptions\n",
      "7. Crafting engaging marketing emails\n",
      "8. Predicting stock market trends\n",
      "9. Composing music based on mood or genre inputs\n",
      "10. Designing custom educational quizzes and flashcardsNone"
     ]
    }
   ],
   "source": [
    "stream_response = client.chat.completions.create(\n",
    "  model=\"gpt-4-turbo-preview\",\n",
    "  messages=[\n",
    "    {\n",
    "      \"role\": \"system\",\n",
    "      \"content\": \"Complete the user's prompt.\"\n",
    "    },\n",
    "    {\n",
    "      \"role\": \"user\",\n",
    "      \"content\": \"GPT-3 ideas\\n1. Classifying Reddit posts\\n2. Generating Twitter tweets\\n3.\"\n",
    "    }\n",
    "  ],\n",
    "  temperature=1,\n",
    "  max_tokens=256,\n",
    "  top_p=1,\n",
    "  frequency_penalty=0,\n",
    "  presence_penalty=0,\n",
    "  stream=True\n",
    ")\n",
    "\n",
    "for message in stream_response:\n",
    "    print(message.choices[0].delta.content, end=\"\")"
   ]
  },
  {
   "cell_type": "markdown",
   "metadata": {},
   "source": [
    "### GPT-4 with Vision\n",
    "ALternatively, you can use GPT-4 with Vision to incorporate image recognition into your model.  Here's an example where we use the model to analyze an image from wikipedia.\n",
    "\n",
    "<img src=https://upload.wikimedia.org/wikipedia/commons/thumb/d/dd/Gfp-wisconsin-madison-the-nature-boardwalk.jpg/2560px-Gfp-wisconsin-madison-the-nature-boardwalk.jpg>"
   ]
  },
  {
   "cell_type": "code",
   "execution_count": 20,
   "metadata": {},
   "outputs": [
    {
     "name": "stdout",
     "output_type": "stream",
     "text": [
      "(analyzing image)...\n",
      "\n",
      "This image portrays a beautiful natural landscape featuring a wooden boardwalk that extends through a lush green field\n",
      ". The field is dense with tall grasses and some bushes, possibly indicating a natural wetland or\n",
      " a protected natural area where the boardwalk allows visitors to walk through without disturbing the ecosystem.\n",
      "\n",
      "The sky\n",
      " above is partly cloudy with soft blue tones and streaks of white clouds, suggesting a fair weather day\n",
      ". The composition of the image, with the boardwalk leading into the horizon, creates a strong linear\n",
      " perspective, guiding the viewer's eyes through the scene and inviting contemplation of the distance and the natural\n",
      " surroundings. Overall, the image exudes a sense of tranquility and the beauty of the great outdoors\n",
      "."
     ]
    }
   ],
   "source": [
    "stream_response = client.chat.completions.create(\n",
    "  model=\"gpt-4-vision-preview\",\n",
    "  messages=[\n",
    "    {\n",
    "      \"role\": \"user\",\n",
    "      \"content\": [\n",
    "        {\"type\": \"text\", \"text\": \"What’s in this image?\"},\n",
    "        {\n",
    "          \"type\": \"image_url\",\n",
    "          \"image_url\": {\n",
    "            \"url\": \"https://upload.wikimedia.org/wikipedia/commons/thumb/d/dd/Gfp-wisconsin-madison-the-nature-boardwalk.jpg/2560px-Gfp-wisconsin-madison-the-nature-boardwalk.jpg\",\n",
    "          },\n",
    "        },\n",
    "      ],\n",
    "    }\n",
    "  ],\n",
    "  max_tokens=300,\n",
    "  stream=True\n",
    ")\n",
    "\n",
    "print(\"(analyzing image)...\")\n",
    "for index, message in enumerate(stream_response):\n",
    "    if index % 20 == 0:\n",
    "        print() # add a new line every 20 messages\n",
    "    if content := message.choices[0].delta.content:\n",
    "        print(content, end=\"\")"
   ]
  },
  {
   "cell_type": "markdown",
   "metadata": {},
   "source": [
    "# ✨ Your idea ✨\n",
    "\n",
    "We really want to encourage to try one of your own ideas or take an idea from the previously suggested links and see if you can come up with something (or maybe let GPT-4 help you come up with an idea?).\n",
    "\n",
    "As always, if you have any questions or like to brainstorm about some ideas, we are there to help you!"
   ]
  }
 ],
 "metadata": {
  "kernelspec": {
   "display_name": "nlp_course_env",
   "language": "python",
   "name": "python3"
  },
  "language_info": {
   "codemirror_mode": {
    "name": "ipython",
    "version": 3
   },
   "file_extension": ".py",
   "mimetype": "text/x-python",
   "name": "python",
   "nbconvert_exporter": "python",
   "pygments_lexer": "ipython3",
   "version": "3.11.6"
  }
 },
 "nbformat": 4,
 "nbformat_minor": 2
}
