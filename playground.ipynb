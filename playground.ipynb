{
 "cells": [
  {
   "cell_type": "code",
   "execution_count": 17,
   "metadata": {},
   "outputs": [
    {
     "name": "stdout",
     "output_type": "stream",
     "text": [
      "Tokenized Sentence: ['ver', 'i', 't', 'a', 'b', 'l', 'y ', 'ver', 'y ', 'sup', 'er', ' ', 'sup', 'p', 'er']\n"
     ]
    }
   ],
   "source": [
    "from collections import Counter\n",
    "\n",
    "def bpe_tokenize(sentence, num_merges):\n",
    "    \"\"\"\n",
    "    Perform Byte Pair Encoding (BPE) tokenization on a given sentence.\n",
    "    \"\"\"\n",
    "\n",
    "    # Initialize vocabulary with individual characters\n",
    "    vocabulary = list(sentence)\n",
    "    tokenized_sentence = list(sentence)\n",
    "\n",
    "    for i in range(num_merges):\n",
    "        # Find the most common pair\n",
    "        pairs = Counter()\n",
    "        for pair in zip(tokenized_sentence[:-1], tokenized_sentence[1:]):\n",
    "            pairs[pair] += 1\n",
    "        most_common_pair, _ = pairs.most_common(1)[0]\n",
    "\n",
    "        # If no more pairs can be merged, break\n",
    "        if pairs[most_common_pair] <= 1:\n",
    "            break\n",
    "\n",
    "        # Create a new token for the most common pair\n",
    "        new_token = most_common_pair[0] + most_common_pair[1]\n",
    "\n",
    "        # Update the sentence by replacing instances of the most common pair with the new token\n",
    "        new_tokenized_sentences = []\n",
    "        skip = False\n",
    "        for index, token in enumerate(tokenized_sentence[:-1]):\n",
    "            if skip:\n",
    "                skip = False\n",
    "                continue\n",
    "            if token == most_common_pair[0] and tokenized_sentence[index + 1] == most_common_pair[1]:\n",
    "                new_tokenized_sentences.append(new_token)\n",
    "                skip = True\n",
    "            else:\n",
    "                new_tokenized_sentences.append(token)\n",
    "        if not skip:\n",
    "            new_tokenized_sentences.append(tokenized_sentence[-1])\n",
    "        tokenized_sentence = new_tokenized_sentences\n",
    "\n",
    "        # Update vocabulary\n",
    "        vocabulary.append(new_token)\n",
    "\n",
    "    return tokenized_sentence, vocabulary\n",
    "\n",
    "# Sample sentence\n",
    "sentence = \"veritably very super supper\"\n",
    "# Perform BPE with a small number of merges to illustrate the process\n",
    "tokenized_sentence, _ = bpe_tokenize(sentence, 15)\n",
    "\n",
    "print(\"Tokenized Sentence:\", tokenized_sentence)\n"
   ]
  },
  {
   "cell_type": "code",
   "execution_count": null,
   "metadata": {},
   "outputs": [],
   "source": []
  }
 ],
 "metadata": {
  "kernelspec": {
   "display_name": "nlp_course_env",
   "language": "python",
   "name": "python3"
  },
  "language_info": {
   "codemirror_mode": {
    "name": "ipython",
    "version": 3
   },
   "file_extension": ".py",
   "mimetype": "text/x-python",
   "name": "python",
   "nbconvert_exporter": "python",
   "pygments_lexer": "ipython3",
   "version": "3.11.6"
  }
 },
 "nbformat": 4,
 "nbformat_minor": 2
}
